{
 "cells": [
  {
   "cell_type": "code",
   "execution_count": 1,
   "metadata": {
    "collapsed": true
   },
   "outputs": [],
   "source": [
    "import os\n",
    "import sys\n",
    "sys.path.append(\"../cnn\")\n",
    "sys.path.append(\"../utils\")\n",
    "\n",
    "import torch\n",
    "from torch.autograd import Variable\n",
    "\n",
    "from ipywidgets import interact, fixed\n",
    "import ipywidgets as widgets\n",
    "import matplotlib.pyplot as plt\n",
    "import numpy as np\n",
    "\n",
    "# import seaborn as sns; sns.set()\n",
    "\n",
    "from cnn_md import CNNMultidecoder, CNNVariationalMultidecoder\n",
    "from hao_data import read_next_utt"
   ]
  },
  {
   "cell_type": "code",
   "execution_count": 6,
   "metadata": {},
   "outputs": [
    {
     "name": "stdout",
     "output_type": "stream",
     "text": [
      "Using experiment ENC_C_256_256_K_3_3_P_3_3_F_2048_2048/LATENT_1024/DEC_F_2048_2048_C_256_256_K_3_3_P_3_3/ACT_SELU_BN_false_WEIGHT_INIT_xavier_uniform/OPT_Adam_LR_0.0001_EPOCHS_25_BATCH_256_DEBUG_false\n",
      "Noise ratio 0.25\n"
     ]
    }
   ],
   "source": [
    "# Set up environment variables for the model we want to examine\n",
    "# NOT necessarily the current environment variables!!\n",
    "\n",
    "feat_dim=80\n",
    "left_splice=5\n",
    "right_splice=5\n",
    "\n",
    "optimizer=\"Adam\"\n",
    "learning_rate=\"0.0001\" # Use string instead of float to prevent Python's auto-formatting...\n",
    "epochs=25\n",
    "batch_size=256\n",
    "\n",
    "enc_channels=[256, 256]\n",
    "enc_kernels=[3, 3]\n",
    "enc_pools=[3, 3]\n",
    "enc_fc=[2048, 2048]\n",
    "\n",
    "latent_dim=1024\n",
    "\n",
    "dec_fc=[2048, 2048]\n",
    "dec_channels=[256, 256]\n",
    "dec_kernels=[3, 3]\n",
    "dec_pools=[3, 3]\n",
    "\n",
    "use_batch_norm=False\n",
    "use_batch_norm_str = \"true\" if use_batch_norm else \"false\"\n",
    "activation=\"SELU\"\n",
    "weight_init=\"xavier_uniform\"\n",
    "\n",
    "enc_channels_delim=\"_\" + \"_\".join(map(str, enc_channels))\n",
    "if len(enc_channels) == 0:\n",
    "     # need to recreate bash join behavior with empty array\n",
    "    enc_channels_delim=\"_\"\n",
    "enc_kernels_delim=\"_\" + \"_\".join(map(str, enc_kernels))\n",
    "if len(enc_kernels) == 0:\n",
    "     # need to recreate bash join behavior with empty array\n",
    "    enc_kernels_delim=\"_\"\n",
    "enc_pools_delim=\"_\" + \"_\".join(map(str, enc_pools))\n",
    "if len(enc_pools) == 0:\n",
    "     # need to recreate bash join behavior with empty array\n",
    "    enc_pools_delim=\"_\"\n",
    "enc_fc_delim=\"_\" + \"_\".join(map(str, enc_fc))\n",
    "if len(enc_fc) == 0:\n",
    "     # need to recreate bash join behavior with empty array\n",
    "    enc_fc_delim=\"_\"\n",
    "    \n",
    "dec_fc_delim=\"_\" + \"_\".join(map(str, dec_fc))\n",
    "if len(dec_fc) == 0:\n",
    "     # need to recreate bash join behavior with empty array\n",
    "    dec_fc_delim=\"_\"\n",
    "dec_channels_delim=\"_\" + \"_\".join(map(str, dec_channels))\n",
    "if len(dec_channels) == 0:\n",
    "     # need to recreate bash join behavior with empty array\n",
    "    dec_channels_delim=\"_\"\n",
    "dec_kernels_delim=\"_\" + \"_\".join(map(str, dec_kernels))\n",
    "if len(dec_kernels) == 0:\n",
    "     # need to recreate bash join behavior with empty array\n",
    "    dec_kernels_delim=\"_\"\n",
    "dec_pools_delim=\"_\" + \"_\".join(map(str, dec_pools))\n",
    "if len(dec_pools) == 0:\n",
    "     # need to recreate bash join behavior with empty array\n",
    "    dec_pools_delim=\"_\"\n",
    "\n",
    "debug_model = False\n",
    "debug_str = \"true\" if debug_model else \"false\"\n",
    "expt_name = \"ENC_C%s_K%s_P%s_F%s/LATENT_%d/DEC_F%s_C%s_K%s_P%s/ACT_%s_BN_%s_WEIGHT_INIT_%s/OPT_%s_LR_%s_EPOCHS_%d_BATCH_%d_DEBUG_%s\" % (enc_channels_delim,\n",
    "                                                                                                                                        enc_kernels_delim, \n",
    "                                                                                                                                        enc_pools_delim, \n",
    "                                                                                                                                        enc_fc_delim,\n",
    "                                                                                                                                        latent_dim,\n",
    "                                                                                                                                        dec_fc_delim,\n",
    "                                                                                                                                        dec_channels_delim,\n",
    "                                                                                                                                        dec_kernels_delim,                                                                                                                   dec_pools_delim,\n",
    "                                                                                                                                        activation,\n",
    "                                                                                                                                        use_batch_norm_str,\n",
    "                                                                                                                                        weight_init,\n",
    "                                                                                                                                        optimizer,\n",
    "                                                                                                                                        learning_rate,\n",
    "                                                                                                                                        epochs,\n",
    "                                                                                                                                        batch_size,\n",
    "                                                                                                                                        debug_str)\n",
    "\n",
    "time_dim = (left_splice + right_splice + 1)\n",
    "freq_dim = feat_dim\n",
    "\n",
    "print(\"Using experiment %s\" % expt_name)\n",
    "\n",
    "noise_ratio=0.25\n",
    "print(\"Noise ratio %s\" % str(noise_ratio))"
   ]
  },
  {
   "cell_type": "code",
   "execution_count": 7,
   "metadata": {},
   "outputs": [
    {
     "name": "stdout",
     "output_type": "stream",
     "text": [
      "Loaded checkpoint\n"
     ]
    }
   ],
   "source": [
    "# Load checkpoint (potentially trained on GPU) into CPU memory (hence the map_location)\n",
    "model_type = \"ae\"\n",
    "checkpoint_file = \"/data/sls/scratch/atitus5/meng/models/cnn/%s/best_cnn_%s_ratio%s_md.pth.tar\" % (expt_name,\n",
    "                                                                                                   model_type,\n",
    "                                                                                                   str(noise_ratio))\n",
    "checkpoint = torch.load(checkpoint_file, map_location=lambda storage,loc: storage)\n",
    "print(\"Loaded checkpoint\")"
   ]
  },
  {
   "cell_type": "code",
   "execution_count": 8,
   "metadata": {},
   "outputs": [
    {
     "data": {
      "image/png": "[encoded data removed]",
      "text/plain": [
       "<matplotlib.figure.Figure at 0x7f7c7f1e2160>"
      ]
     },
     "metadata": {},
     "output_type": "display_data"
    }
   ],
   "source": [
    "color_map = \"coolwarm\"\n",
    "def plotFirstLayerKernels(name, num_cols):\n",
    "    weights = checkpoint[\"state_dict\"][name].numpy()\n",
    "    if len(weights.shape) != 4:\n",
    "        print(\"plotFirstLayerKernels expects a 4D tensor; got a %dD tensor instead\" % len(weights.shape))\n",
    "    if weights.shape[1] != 1:\n",
    "        print(\"plotFirstLayerKernels can only visualize 1 input channel of data\")\n",
    "    num_kernels = weights.shape[0]\n",
    "        \n",
    "    num_rows = int(num_kernels // num_cols) + 1\n",
    "    kernels = weights.reshape((num_kernels, weights.shape[2], weights.shape[3]))\n",
    "    \n",
    "    fig = plt.figure(figsize=(16, 16)) \n",
    "    for row in range(num_rows):\n",
    "        for col in range(num_cols):\n",
    "            kernel_idx = (row * num_cols) + col\n",
    "            if kernel_idx < num_kernels:\n",
    "                ax = plt.subplot(num_rows, num_cols, kernel_idx + 1)\n",
    "                ax.axis('off')   # Pretty-up the result a bit\n",
    "                plt.imshow(kernels[kernel_idx], cmap=color_map, aspect='equal')\n",
    "    plt.show()\n",
    "    \n",
    "col_count = 16\n",
    "plotFirstLayerKernels(\"encoder_conv.conv2d_0.weight\", col_count)"
   ]
  },
  {
   "cell_type": "code",
   "execution_count": 9,
   "metadata": {},
   "outputs": [
    {
     "data": {
      "application/vnd.jupyter.widget-view+json": {
       "model_id": "bf0f47b0ab49482dba36897cbc1349a4"
      }
     },
     "metadata": {},
     "output_type": "display_data"
    },
    {
     "data": {
      "text/plain": [
       "<function __main__.plotFeats>"
      ]
     },
     "execution_count": 9,
     "metadata": {},
     "output_type": "execute_result"
    }
   ],
   "source": [
    "# Visualize layers via mean-image method (images/feature matrices for which activation is highest for a unit)\n",
    "top_count = 100\n",
    "activations_dir = \"/data/sls/scratch/atitus5/meng/activations/cnn/top_%d/%s/%s_ratio%s\" % (top_count,\n",
    "                                                                                           expt_name,\n",
    "                                                                                           model_type,\n",
    "                                                                                           str(noise_ratio))\n",
    "\n",
    "layer_idx = 1\n",
    "decoder_class = \"sdm1\"\n",
    "scp_filename = \"%s/activations_holdout-%s-%s_%d.scp\" % (activations_dir,\n",
    "                                                        decoder_class,\n",
    "                                                        activation,\n",
    "                                                        layer_idx)\n",
    "    \n",
    "all_feats = []\n",
    "with open(scp_filename, 'r') as scp_file:\n",
    "    for scp_line in scp_file:\n",
    "        avg_feats = read_next_utt(scp_line)[1]\n",
    "        all_feats.append(avg_feats)\n",
    "num_units = len(all_feats)\n",
    "\n",
    "# Transpose time and frequency to undo the transpose by imshow\n",
    "top_images = np.asarray(all_feats).reshape((num_units, freq_dim, time_dim))\n",
    "\n",
    "def plotFeats(unit_idx):\n",
    "    plt.imshow(top_images[unit_idx], cmap=color_map, aspect='equal')\n",
    "    fig = plt.gcf()\n",
    "    width = 4.0\n",
    "    height = freq_dim / time_dim * width\n",
    "    fig.set_size_inches(width, height)\n",
    "    plt.show()\n",
    "    \n",
    "interact(plotFeats, unit_idx=(0, enc_channels[layer_idx]))"
   ]
  },
  {
   "cell_type": "code",
   "execution_count": null,
   "metadata": {
    "collapsed": true
   },
   "outputs": [],
   "source": []
  }
 ],
 "metadata": {
  "kernelspec": {
   "display_name": "Python 3",
   "language": "python",
   "name": "python3"
  },
  "language_info": {
   "codemirror_mode": {
    "name": "ipython",
    "version": 3
   },
   "file_extension": ".py",
   "mimetype": "text/x-python",
   "name": "python",
   "nbconvert_exporter": "python",
   "pygments_lexer": "ipython3",
   "version": "3.6.3"
  }
 },
 "nbformat": 4,
 "nbformat_minor": 2
}
